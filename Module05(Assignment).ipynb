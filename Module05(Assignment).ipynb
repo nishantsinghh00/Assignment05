{
  "nbformat": 4,
  "nbformat_minor": 0,
  "metadata": {
    "colab": {
      "provenance": []
    },
    "kernelspec": {
      "name": "python3",
      "display_name": "Python 3"
    },
    "language_info": {
      "name": "python"
    }
  },
  "cells": [
    {
      "cell_type": "markdown",
      "source": [
        "1. List out the feautres of HTML 5.\n",
        "  -  New sementic elements.\n",
        "    -  header,main,footer,aside,article.\n",
        "    -  improves code readiabilty and SEO.\n",
        "  -  Audio and Video tags\n",
        "    -  Now we can add audio and video on webpage with help of audio and video tag.\n",
        "  -  Form enhancement\n",
        "    - More attribute added in input tag (type) like  email, date, url, etc..\n",
        "    - New attributes are added like placeholder, required, autofocus, etc..\n",
        "2.  What are HTML entities? List out 5 commenly used HTML entities.\n",
        "  -  HTML entites are special type of code used to display reserverd characters, symbols. Reservered charcters like <,> , (space) we use them directly by only write HTML entites.\n",
        "  -  5 commenly used HTML entites are:(in end of entites we use semicolon(;) but i use :)\n",
        "     - &nbsp: for if we want space.  \n",
        "     - &lt: for less then symbole(<).\n",
        "     - &gt: for greter then symbole(>).\n",
        "     - &amp: for ampersand symbole(&).\n",
        "     - &quot: for double quotation mark(\").\n",
        "3. Define accessibilty in the context of web development. Discuss why it's essential to create accessible websites and how it benefits different user groups.\n",
        "  -  Accessibilty in web development means design and bulid website in this way all user can easily access our website include those with some disabilities. Dsabilities like some visual problem(colour blindness, blindness, etc..), some hearing problem, etc...\n",
        "  -  Why it's essential to create accessible websites because:\n",
        "     -  All users easily access our website.\n",
        "     -  For better user experiance.\n",
        "     -  Its improve SEO ranking of our website.\n",
        "     -  If users experiance is good its increase no. of users.\n",
        "     -  Its good for old age users.\n",
        "  -  Benefits of different user groups are:\n",
        "     -  Visual problem users = screen readers + sementic HTML code provide meanigful information.\n",
        "     -  Elderly users = Simple interference and readiable fonts.\n",
        "     -  Hearing problem user = Caption and transcripts for video/audio content.\n",
        "     - All users = Easily accessable or fast website.\n",
        "4. List any 3 ways which help us in improving the accessibility of HTML.\n",
        "  -  1. Use sementic HTML element.\n",
        "    -  Sementic HTML element improves accessibility of our webpage.\n",
        "    -  Use sementic HTML element like (header tag, main tag, footer tag, aside tag, etc...)\n",
        "  -  2. Use alt attribute in img tag\n",
        "    -  Alt attribute helps us to identify what image it is.\n",
        "    -  If user can't see properly it use secreen reader who read alt attribute and tells which image it is.\n",
        "  -  3. Ensure keyboard Navigability\n",
        "    -  Make sure user can access your website just using keyboard.\n",
        "    -  It is very helpful for those user who can't use mouse or those user who can't see properly.\n",
        "5. Create a web page that highlights the feature of HTML5.Use appropriate semantic tags to structure the content and showcase at least three key features of HTML5 with explanation."
      ],
      "metadata": {
        "id": "2c4xz6FPy9V3"
      }
    },
    {
      "cell_type": "code",
      "source": [
        "<!DOCTYPE html>\n",
        "<html lang=\"en\">\n",
        "<head>\n",
        "    <meta charset=\"UTF-8\">\n",
        "    <meta name=\"viewport\" content=\"width=device-width, initial-scale=1.0\">\n",
        "    <title>HTML5</title>\n",
        "</head>\n",
        "<body>\n",
        "    <header><h1><center><u>KEY FEATURE OF HTML 5</u></center></h1></header>\n",
        "    <main>\n",
        "        <h2><u>three key feature of HTML 5 are;</u></h2>\n",
        "        <ul>\n",
        "            <li>\n",
        "                Sementic elements that makes our webpage more accessibility\n",
        "            </li>\n",
        "            <li>\n",
        "                Multimedia support(audio & video)\n",
        "            </li>\n",
        "            <li>\n",
        "                Form Enhencements(New input types and attributes)\n",
        "            </li>\n",
        "        </ul>\n",
        "    </main>\n",
        "    <form>\n",
        "        My answer is\n",
        "        <br>\n",
        "     Good<input type=\"radio\" name=\"Good\">&nbsp;  Bad<input type=\"radio\" name=\"Bad\">\n",
        "    </form>\n",
        "    <footer></footer>\n",
        "\n",
        "</body>\n",
        "</html>"
      ],
      "metadata": {
        "id": "Ba1WceLmzlce"
      },
      "execution_count": null,
      "outputs": []
    },
    {
      "cell_type": "markdown",
      "source": [
        "6. Create a simple web page which has a table.Table must have 2 coloumns HTML and HTML5.The table should include a minimum of three rows describing the difference between HTML and HTML5."
      ],
      "metadata": {
        "id": "e5tey8n1qxVF"
      }
    },
    {
      "cell_type": "code",
      "execution_count": null,
      "metadata": {
        "id": "CWA-onIuy0zF"
      },
      "outputs": [],
      "source": [
        "<!DOCTYPE html>\n",
        "<html lang=\"en\">\n",
        "<head>\n",
        "    <meta charset=\"UTF-8\">\n",
        "    <meta name=\"viewport\" content=\"width=device-width, initial-scale=1.0\">\n",
        "    <title>table</title>\n",
        "</head>\n",
        "<body>\n",
        "    <header>\n",
        "        <h1><center><u>Differnce Between HTML and HTML5</u></center></h1>\n",
        "    </header>\n",
        "    <main>\n",
        "        <table border=\"1\" cellpadding=\"10\" cellspacing=\"3\">\n",
        "            <tr>\n",
        "                <th>HTML</th>\n",
        "                <th>HTML 5</th>\n",
        "            </tr>\n",
        "            <tr>\n",
        "                <td>\n",
        "                    1. Mostly genric tags like(div tag, etc..)\n",
        "                </td>\n",
        "                <td>\n",
        "                    1. New Sementic tags like(header tag, main tag, footer tag, etc...)\n",
        "                </td>\n",
        "            </tr>\n",
        "            <tr>\n",
        "                <td>2. No Multimedia tags.</td>\n",
        "                <td>2. New Multimedia tags like (audio tag & video tag)</td>\n",
        "            </tr>\n",
        "            <tr>\n",
        "                <td>3. Limited Input types.</td>\n",
        "                <td>3. New Input types like(email, date, etc..)</td>\n",
        "            </tr>\n",
        "            <tr>\n",
        "                <td>4. HTML 4.01 is older version.</td>\n",
        "                <td>4. HTML 5 is latest version.</td>\n",
        "            </tr>\n",
        "        </table>\n",
        "    </main>\n",
        "</body>\n",
        "</html>"
      ]
    }
  ]
}